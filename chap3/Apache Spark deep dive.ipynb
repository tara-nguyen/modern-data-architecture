{
 "cells": [
  {
   "cell_type": "code",
   "execution_count": 1,
   "id": "8a696bc7-ab9f-4ff9-af57-992aad0a477d",
   "metadata": {},
   "outputs": [],
   "source": [
    "import random\n",
    "\n",
    "from pyspark.sql import SparkSession\n",
    "from pyspark.sql.functions import broadcast"
   ]
  },
  {
   "cell_type": "code",
   "execution_count": 2,
   "id": "24605a6d-b77e-4716-af33-ba05a34b2fdb",
   "metadata": {},
   "outputs": [
    {
     "name": "stderr",
     "output_type": "stream",
     "text": [
      "Setting default log level to \"WARN\".\n",
      "To adjust logging level use sc.setLogLevel(newLevel). For SparkR, use setLogLevel(newLevel).\n",
      "23/12/23 12:04:49 WARN NativeCodeLoader: Unable to load native-hadoop library for your platform... using builtin-java classes where applicable\n"
     ]
    }
   ],
   "source": [
    "spark = SparkSession.builder.appName(\"chap3\").getOrCreate()"
   ]
  },
  {
   "cell_type": "markdown",
   "id": "68e6139a-be10-4eb3-af7f-167c6c27599e",
   "metadata": {},
   "source": [
    "# Spark Architecture"
   ]
  },
  {
   "cell_type": "code",
   "execution_count": 3,
   "id": "ff233a5c-6cd8-4294-a3b1-584ec1a3b35a",
   "metadata": {},
   "outputs": [],
   "source": [
    "random.seed(0)"
   ]
  },
  {
   "cell_type": "code",
   "execution_count": 6,
   "id": "516792ae-cd61-451e-9abe-075815404c64",
   "metadata": {},
   "outputs": [
    {
     "name": "stderr",
     "output_type": "stream",
     "text": [
      "                                                                                \r"
     ]
    },
    {
     "data": {
      "text/plain": [
       "[Row(id=0, x=49, y=47), Row(id=1, x=53, y=-45), Row(id=2, x=33, y=15)]"
      ]
     },
     "execution_count": 6,
     "metadata": {},
     "output_type": "execute_result"
    }
   ],
   "source": [
    "data = [(i, random.randrange(100), random.randint(-50, 50))\n",
    "        for i in range(20)]\n",
    "df1 = spark.createDataFrame(data, schema=[\"id\", \"x\", \"y\"])\n",
    "df1.head(3)"
   ]
  },
  {
   "cell_type": "markdown",
   "id": "d21e5376-0197-44ca-bbf5-15b376723020",
   "metadata": {},
   "source": [
    "Number of partitions in resilient distributed dataset (RDD):"
   ]
  },
  {
   "cell_type": "code",
   "execution_count": 7,
   "id": "2648ef82-f83f-4a09-9a1a-0eb073a92ec8",
   "metadata": {},
   "outputs": [
    {
     "data": {
      "text/plain": [
       "8"
      ]
     },
     "execution_count": 7,
     "metadata": {},
     "output_type": "execute_result"
    }
   ],
   "source": [
    "df1.rdd.getNumPartitions()"
   ]
  },
  {
   "cell_type": "code",
   "execution_count": 8,
   "id": "285fbd10-63d7-4790-abd6-5e7401a4f1bb",
   "metadata": {},
   "outputs": [],
   "source": [
    "def print_partitions(df):\n",
    "    partitions = df.rdd.glom().collect()\n",
    "    for i in range(len(partitions)):\n",
    "        print(f\"Partition #{i + 1}\")\n",
    "        print(*partitions[i])\n",
    "        print()"
   ]
  },
  {
   "cell_type": "code",
   "execution_count": 9,
   "id": "20f5880c-5a3e-4df1-ae40-4383a3bbed4f",
   "metadata": {},
   "outputs": [
    {
     "name": "stdout",
     "output_type": "stream",
     "text": [
      "Partition #1\n",
      "Row(id=0, x=49, y=47) Row(id=1, x=53, y=-45)\n",
      "\n",
      "Partition #2\n",
      "Row(id=2, x=33, y=15) Row(id=3, x=62, y=1)\n",
      "\n",
      "Partition #3\n",
      "Row(id=4, x=38, y=11) Row(id=5, x=45, y=24)\n",
      "\n",
      "Partition #4\n",
      "Row(id=6, x=27, y=14) Row(id=7, x=17, y=-14) Row(id=8, x=17, y=46) Row(id=9, x=12, y=29)\n",
      "\n",
      "Partition #5\n",
      "Row(id=10, x=32, y=18) Row(id=11, x=90, y=27)\n",
      "\n",
      "Partition #6\n",
      "Row(id=12, x=18, y=-11) Row(id=13, x=12, y=43)\n",
      "\n",
      "Partition #7\n",
      "Row(id=14, x=9, y=37) Row(id=15, x=42, y=10)\n",
      "\n",
      "Partition #8\n",
      "Row(id=16, x=71, y=-38) Row(id=17, x=45, y=5) Row(id=18, x=40, y=28) Row(id=19, x=81, y=-24)\n",
      "\n"
     ]
    }
   ],
   "source": [
    "print_partitions(df1)"
   ]
  },
  {
   "cell_type": "markdown",
   "id": "937c4ba6-e0cd-47ee-8221-5807dfbe2cfb",
   "metadata": {},
   "source": [
    "Repartition without a shuffle (often used when reducing partitioning, i.e., decreasing the number of partitions):"
   ]
  },
  {
   "cell_type": "code",
   "execution_count": 10,
   "id": "1651b61b-3d60-4867-855f-56d9036893a3",
   "metadata": {},
   "outputs": [
    {
     "name": "stdout",
     "output_type": "stream",
     "text": [
      "Partition #1\n",
      "Row(id=0, x=49, y=47) Row(id=1, x=53, y=-45)\n",
      "\n",
      "Partition #2\n",
      "Row(id=2, x=33, y=15) Row(id=3, x=62, y=1) Row(id=4, x=38, y=11) Row(id=5, x=45, y=24)\n",
      "\n",
      "Partition #3\n",
      "Row(id=6, x=27, y=14) Row(id=7, x=17, y=-14) Row(id=8, x=17, y=46) Row(id=9, x=12, y=29)\n",
      "\n",
      "Partition #4\n",
      "Row(id=10, x=32, y=18) Row(id=11, x=90, y=27) Row(id=12, x=18, y=-11) Row(id=13, x=12, y=43)\n",
      "\n",
      "Partition #5\n",
      "Row(id=14, x=9, y=37) Row(id=15, x=42, y=10) Row(id=16, x=71, y=-38) Row(id=17, x=45, y=5) Row(id=18, x=40, y=28) Row(id=19, x=81, y=-24)\n",
      "\n"
     ]
    }
   ],
   "source": [
    "rdd1a = df1.coalesce(5)\n",
    "print_partitions(rdd1a)"
   ]
  },
  {
   "cell_type": "markdown",
   "id": "d8ca18f0-9c9c-44a2-8e85-25cff79b652c",
   "metadata": {},
   "source": [
    "Repartition with a shuffle:"
   ]
  },
  {
   "cell_type": "code",
   "execution_count": 11,
   "id": "f7326e6c-0216-4dd3-b279-9f3fd56258b7",
   "metadata": {},
   "outputs": [
    {
     "name": "stdout",
     "output_type": "stream",
     "text": [
      "Partition #1\n",
      "Row(id=0, x=49, y=47) Row(id=2, x=33, y=15) Row(id=5, x=45, y=24) Row(id=7, x=17, y=-14) Row(id=11, x=90, y=27)\n",
      "\n",
      "Partition #2\n",
      "Row(id=8, x=17, y=46) Row(id=12, x=18, y=-11) Row(id=14, x=9, y=37) Row(id=19, x=81, y=-24)\n",
      "\n",
      "Partition #3\n",
      "Row(id=13, x=12, y=43) Row(id=15, x=42, y=10) Row(id=16, x=71, y=-38)\n",
      "\n",
      "Partition #4\n",
      "Row(id=6, x=27, y=14) Row(id=18, x=40, y=28)\n",
      "\n",
      "Partition #5\n",
      "Row(id=1, x=53, y=-45) Row(id=3, x=62, y=1) Row(id=4, x=38, y=11) Row(id=9, x=12, y=29) Row(id=10, x=32, y=18) Row(id=17, x=45, y=5)\n",
      "\n"
     ]
    }
   ],
   "source": [
    "rdd1b = df1.repartition(5)\n",
    "print_partitions(rdd1b)"
   ]
  },
  {
   "cell_type": "markdown",
   "id": "fac3378e-ca49-4108-b40e-c0349ae90e86",
   "metadata": {},
   "source": [
    "Repartition by columns:"
   ]
  },
  {
   "cell_type": "code",
   "execution_count": 12,
   "id": "f17a07b9-7395-4b32-a3b7-52b3dc640813",
   "metadata": {},
   "outputs": [
    {
     "name": "stdout",
     "output_type": "stream",
     "text": [
      "Partition #1\n",
      "Row(id=0, x=49, y=47) Row(id=13, x=12, y=43) Row(id=14, x=9, y=37) Row(id=16, x=71, y=-38)\n",
      "\n",
      "Partition #2\n",
      "Row(id=3, x=62, y=1)\n",
      "\n",
      "Partition #3\n",
      "Row(id=4, x=38, y=11) Row(id=11, x=90, y=27) Row(id=15, x=42, y=10)\n",
      "\n",
      "Partition #4\n",
      "Row(id=2, x=33, y=15) Row(id=6, x=27, y=14) Row(id=7, x=17, y=-14) Row(id=8, x=17, y=46) Row(id=10, x=32, y=18) Row(id=12, x=18, y=-11) Row(id=17, x=45, y=5) Row(id=19, x=81, y=-24)\n",
      "\n",
      "Partition #5\n",
      "Row(id=1, x=53, y=-45) Row(id=5, x=45, y=24) Row(id=9, x=12, y=29) Row(id=18, x=40, y=28)\n",
      "\n"
     ]
    }
   ],
   "source": [
    "print_partitions(df1.repartition(5, \"x\", \"y\"))"
   ]
  }
 ],
 "metadata": {
  "kernelspec": {
   "display_name": "Python 3 (ipykernel)",
   "language": "python",
   "name": "python3"
  },
  "language_info": {
   "codemirror_mode": {
    "name": "ipython",
    "version": 3
   },
   "file_extension": ".py",
   "mimetype": "text/x-python",
   "name": "python",
   "nbconvert_exporter": "python",
   "pygments_lexer": "ipython3",
   "version": "3.11.7"
  }
 },
 "nbformat": 4,
 "nbformat_minor": 5
}
