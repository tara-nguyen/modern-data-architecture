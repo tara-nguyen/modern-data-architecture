{
 "cells": [
  {
   "cell_type": "code",
   "execution_count": 1,
   "id": "3d1071e3-285a-4610-852d-d8b84824ec5d",
   "metadata": {},
   "outputs": [],
   "source": [
    "from functools import partial\n",
    "\n",
    "from pyspark.sql import SparkSession\n",
    "from pyspark.sql.functions import (\n",
    "    when, regexp_replace, flatten, explode,\n",
    "    struct, create_map, array, col\n",
    ")\n",
    "from pyspark.sql.types import (\n",
    "    StructType, StructField,\n",
    "    StringType, IntegerType, ArrayType, TimestampType\n",
    ")"
   ]
  },
  {
   "cell_type": "code",
   "execution_count": 2,
   "id": "d7bce84c-d932-4331-9abf-d22f8e4d2cca",
   "metadata": {},
   "outputs": [
    {
     "name": "stderr",
     "output_type": "stream",
     "text": [
      "Setting default log level to \"WARN\".\n",
      "To adjust logging level use sc.setLogLevel(newLevel). For SparkR, use setLogLevel(newLevel).\n",
      "23/12/21 23:42:08 WARN NativeCodeLoader: Unable to load native-hadoop library for your platform... using builtin-java classes where applicable\n"
     ]
    }
   ],
   "source": [
    "spark = SparkSession.builder.appName(\"chap2\").getOrCreate()"
   ]
  },
  {
   "cell_type": "markdown",
   "id": "7028bbb5-910e-4aa2-b0d7-e70c898d6097",
   "metadata": {},
   "source": [
    "# Cleaning & Preparing Your Data"
   ]
  },
  {
   "cell_type": "code",
   "execution_count": 3,
   "id": "3b9e0859-c01f-4a80-a61e-9f99f0f2230e",
   "metadata": {},
   "outputs": [
    {
     "data": {
      "text/plain": [
       "DataFrame[name: string, position: string, id: bigint]"
      ]
     },
     "execution_count": 3,
     "metadata": {},
     "output_type": "execute_result"
    }
   ],
   "source": [
    "df1 = spark.createDataFrame(\n",
    "    [\n",
    "        (\"Alisson\", \"GK\", 1),\n",
    "        (\"Walter\", \"DM\", 3),\n",
    "        (\"Virgil\", \"DF\", 4),\n",
    "        (\"Ibrahim\", \"DF\", None),\n",
    "        (\"Endo\", None, 3),\n",
    "        (\"Alisson\", \"GK\", 1),\n",
    "        (\"Luis\", \"LW\", 0)\n",
    "    ], schema=[\"name\", \"position\", \"id\"]\n",
    ")\n",
    "df1"
   ]
  },
  {
   "cell_type": "code",
   "execution_count": 4,
   "id": "2f65e212-f2a6-4f2c-91d8-7d73c76fea3e",
   "metadata": {},
   "outputs": [
    {
     "name": "stderr",
     "output_type": "stream",
     "text": [
      "[Stage 0:>                                                          (0 + 1) / 1]\r"
     ]
    },
    {
     "name": "stdout",
     "output_type": "stream",
     "text": [
      "+-------+--------+----+\n",
      "|   name|position|  id|\n",
      "+-------+--------+----+\n",
      "|Alisson|      GK|   1|\n",
      "| Walter|      DM|   3|\n",
      "| Virgil|      DF|   4|\n",
      "|Ibrahim|      DF|null|\n",
      "|   Endo|    null|   3|\n",
      "|Alisson|      GK|   1|\n",
      "|   Luis|      LW|   0|\n",
      "+-------+--------+----+\n",
      "\n"
     ]
    },
    {
     "name": "stderr",
     "output_type": "stream",
     "text": [
      "                                                                                \r"
     ]
    }
   ],
   "source": [
    "df1.show()"
   ]
  },
  {
   "cell_type": "markdown",
   "id": "f9ccee75-0cee-48d6-8b27-4b611a32497d",
   "metadata": {},
   "source": [
    "## Aliasing & Renaming Columns"
   ]
  },
  {
   "cell_type": "code",
   "execution_count": 5,
   "id": "98d76d91-b0b8-4560-9fde-8df8ef70613e",
   "metadata": {},
   "outputs": [
    {
     "name": "stdout",
     "output_type": "stream",
     "text": [
      "+-------+\n",
      "| player|\n",
      "+-------+\n",
      "|Alisson|\n",
      "| Walter|\n",
      "| Virgil|\n",
      "|Ibrahim|\n",
      "|   Endo|\n",
      "|Alisson|\n",
      "|   Luis|\n",
      "+-------+\n",
      "\n"
     ]
    }
   ],
   "source": [
    "df1.select(df1[\"name\"].alias(\"player\")).show()"
   ]
  },
  {
   "cell_type": "code",
   "execution_count": 6,
   "id": "bf35a7a6-1d08-43a8-b1e0-a008622d10b6",
   "metadata": {},
   "outputs": [
    {
     "name": "stdout",
     "output_type": "stream",
     "text": [
      "+-------+--------+------+\n",
      "|   name|position|number|\n",
      "+-------+--------+------+\n",
      "|Alisson|      GK|     1|\n",
      "| Walter|      DM|     3|\n",
      "| Virgil|      DF|     4|\n",
      "|Ibrahim|      DF|  null|\n",
      "|   Endo|    null|     3|\n",
      "|Alisson|      GK|     1|\n",
      "|   Luis|      LW|     0|\n",
      "+-------+--------+------+\n",
      "\n"
     ]
    }
   ],
   "source": [
    "df1.withColumnRenamed(\"id\", \"number\").show()"
   ]
  },
  {
   "cell_type": "markdown",
   "id": "5ba4e17b-b766-43c2-a75c-b836721e1d2b",
   "metadata": {},
   "source": [
    "## Duplicate Values"
   ]
  },
  {
   "cell_type": "markdown",
   "id": "23aff528-9880-4806-b3c5-a2bbc4c8017d",
   "metadata": {},
   "source": [
    "Show only unique rows:"
   ]
  },
  {
   "cell_type": "code",
   "execution_count": 7,
   "id": "cd94cb09-6eae-4ef4-a858-8a7b1c97f341",
   "metadata": {},
   "outputs": [
    {
     "name": "stdout",
     "output_type": "stream",
     "text": [
      "+-------+--------+----+\n",
      "|   name|position|  id|\n",
      "+-------+--------+----+\n",
      "|Alisson|      GK|   1|\n",
      "| Walter|      DM|   3|\n",
      "| Virgil|      DF|   4|\n",
      "|Ibrahim|      DF|null|\n",
      "|   Endo|    null|   3|\n",
      "|   Luis|      LW|   0|\n",
      "+-------+--------+----+\n",
      "\n"
     ]
    }
   ],
   "source": [
    "df1.distinct().show()"
   ]
  },
  {
   "cell_type": "markdown",
   "id": "785ffcb7-67ce-448e-83c2-9e44ff4a58a1",
   "metadata": {},
   "source": [
    "Filter out duplicates based on entire rows (same as using `distinct()`):"
   ]
  },
  {
   "cell_type": "code",
   "execution_count": 8,
   "id": "88da6cec-8d8d-4fb8-a40c-3a9300cf47fc",
   "metadata": {},
   "outputs": [
    {
     "name": "stdout",
     "output_type": "stream",
     "text": [
      "+-------+--------+----+\n",
      "|   name|position|  id|\n",
      "+-------+--------+----+\n",
      "|Alisson|      GK|   1|\n",
      "| Walter|      DM|   3|\n",
      "| Virgil|      DF|   4|\n",
      "|Ibrahim|      DF|null|\n",
      "|   Endo|    null|   3|\n",
      "|   Luis|      LW|   0|\n",
      "+-------+--------+----+\n",
      "\n"
     ]
    }
   ],
   "source": [
    "df1.dropDuplicates().show()"
   ]
  },
  {
   "cell_type": "markdown",
   "id": "f093a990-ec33-42ae-97c4-6b520fee98fe",
   "metadata": {},
   "source": [
    "Filter out duplicates based on a subset of columns:"
   ]
  },
  {
   "cell_type": "code",
   "execution_count": 9,
   "id": "d4785543-85ff-4c58-ae90-25ded48d7039",
   "metadata": {},
   "outputs": [
    {
     "name": "stdout",
     "output_type": "stream",
     "text": [
      "+-------+--------+----+\n",
      "|   name|position|  id|\n",
      "+-------+--------+----+\n",
      "|Ibrahim|      DF|null|\n",
      "|   Luis|      LW|   0|\n",
      "|Alisson|      GK|   1|\n",
      "| Walter|      DM|   3|\n",
      "| Virgil|      DF|   4|\n",
      "+-------+--------+----+\n",
      "\n"
     ]
    }
   ],
   "source": [
    "df1.dropDuplicates([\"id\"]).show()"
   ]
  },
  {
   "cell_type": "markdown",
   "id": "3c89c67b-c84b-4b9e-8a62-0bd0c28a4071",
   "metadata": {},
   "source": [
    "## Working With Nulls"
   ]
  },
  {
   "cell_type": "markdown",
   "id": "128319fa-bb3a-417a-a9b6-c1a850cda81a",
   "metadata": {},
   "source": [
    "Filter rows based on the existence or absence of nulls in a specified column:"
   ]
  },
  {
   "cell_type": "code",
   "execution_count": 10,
   "id": "978dfa56-f2ac-47e0-9c68-dc70528c371f",
   "metadata": {},
   "outputs": [
    {
     "name": "stdout",
     "output_type": "stream",
     "text": [
      "+-------+--------+----+\n",
      "|   name|position|  id|\n",
      "+-------+--------+----+\n",
      "|Ibrahim|      DF|null|\n",
      "+-------+--------+----+\n",
      "\n"
     ]
    }
   ],
   "source": [
    "df1.filter(df1[\"id\"].isNull()).show()"
   ]
  },
  {
   "cell_type": "code",
   "execution_count": 11,
   "id": "ee8b7350-1b2d-4112-aaf4-d9f14810dd15",
   "metadata": {},
   "outputs": [
    {
     "name": "stdout",
     "output_type": "stream",
     "text": [
      "+-------+--------+---+\n",
      "|   name|position| id|\n",
      "+-------+--------+---+\n",
      "|Alisson|      GK|  1|\n",
      "| Walter|      DM|  3|\n",
      "| Virgil|      DF|  4|\n",
      "|Alisson|      GK|  1|\n",
      "|   Luis|      LW|  0|\n",
      "+-------+--------+---+\n",
      "\n"
     ]
    }
   ],
   "source": [
    "df1.filter(\n",
    "    df1[\"id\"].isNotNull() & df1[\"position\"].isNotNull()\n",
    ").show()"
   ]
  },
  {
   "cell_type": "markdown",
   "id": "6aa82107-60a2-4c3e-b94c-246672a69c21",
   "metadata": {},
   "source": [
    "Create a null label column:"
   ]
  },
  {
   "cell_type": "code",
   "execution_count": 12,
   "id": "e23e488e-2ab2-4153-9301-b4bd38fea3d6",
   "metadata": {},
   "outputs": [
    {
     "name": "stdout",
     "output_type": "stream",
     "text": [
      "+-------+--------+----+-----+\n",
      "|   name|position|  id|no_id|\n",
      "+-------+--------+----+-----+\n",
      "|Alisson|      GK|   1|false|\n",
      "| Walter|      DM|   3|false|\n",
      "| Virgil|      DF|   4|false|\n",
      "|Ibrahim|      DF|null| true|\n",
      "|   Endo|    null|   3|false|\n",
      "|Alisson|      GK|   1|false|\n",
      "|   Luis|      LW|   0|false|\n",
      "+-------+--------+----+-----+\n",
      "\n"
     ]
    }
   ],
   "source": [
    "df1.select(\"*\", df1[\"id\"].isNull().alias(\"no_id\")).show()"
   ]
  },
  {
   "cell_type": "markdown",
   "id": "589f0cde-a163-4709-b442-dd7f606d7568",
   "metadata": {},
   "source": [
    "Account for cases when nulls are set to alternative values:"
   ]
  },
  {
   "cell_type": "code",
   "execution_count": 13,
   "id": "d03f652a-03ad-43d9-a117-8ae2e63184c9",
   "metadata": {},
   "outputs": [
    {
     "name": "stdout",
     "output_type": "stream",
     "text": [
      "+-------+--------+----+\n",
      "|   name|position|  id|\n",
      "+-------+--------+----+\n",
      "|Alisson|      GK|   1|\n",
      "| Walter|      DM|   3|\n",
      "| Virgil|      DF|   4|\n",
      "|Ibrahim|      DF|null|\n",
      "|   Endo|    null|   3|\n",
      "|Alisson|      GK|   1|\n",
      "|   Luis|      LW|null|\n",
      "+-------+--------+----+\n",
      "\n"
     ]
    }
   ],
   "source": [
    "df1.withColumn(\n",
    "    \"id\",\n",
    "    when(df1[\"id\"] == 0, None).otherwise(df1[\"id\"])\n",
    ").show()"
   ]
  },
  {
   "cell_type": "markdown",
   "id": "1e4c12db-9531-4c63-9d27-5efaa349cc05",
   "metadata": {},
   "source": [
    "## Using RegEx"
   ]
  },
  {
   "cell_type": "code",
   "execution_count": 14,
   "id": "ff417d09-7a73-4626-9cb2-912f2fa7cefa",
   "metadata": {},
   "outputs": [
    {
     "name": "stdout",
     "output_type": "stream",
     "text": [
      "+-------+----------------+\n",
      "|   name|           class|\n",
      "+-------+----------------+\n",
      "|Alisson|            Math|\n",
      "| Virgil|Computer Science|\n",
      "|Ibrahim|         English|\n",
      "| Alexis|Computer Science|\n",
      "+-------+----------------+\n",
      "\n"
     ]
    }
   ],
   "source": [
    "df2 = spark.createDataFrame(\n",
    "    [\n",
    "        (\"Alisson\", \"Math\"),\n",
    "        (\"Virgil\", \"Computer Science\"),\n",
    "        (\"Ibrahim\", \"English\"),\n",
    "        (\"Alexis\", \"Computer Science\")\n",
    "    ], schema=[\"name\", \"class\"]\n",
    ")\n",
    "df2.show()"
   ]
  },
  {
   "cell_type": "markdown",
   "id": "2e8384ac-14ea-490d-9c3f-acba60f9f7b4",
   "metadata": {},
   "source": [
    "Replace one value with an alternative:"
   ]
  },
  {
   "cell_type": "code",
   "execution_count": 15,
   "id": "12d77b53-3057-46d5-b3a9-1ebcea70255a",
   "metadata": {},
   "outputs": [
    {
     "name": "stdout",
     "output_type": "stream",
     "text": [
      "+----------------+----------------+\n",
      "|  initial_choice|    final_choice|\n",
      "+----------------+----------------+\n",
      "|            Math|            Math|\n",
      "|Computer Science|Computer Science|\n",
      "|         English|          Design|\n",
      "|Computer Science|Computer Science|\n",
      "+----------------+----------------+\n",
      "\n"
     ]
    }
   ],
   "source": [
    "df2.select(\n",
    "    df2[\"class\"].alias(\"initial_choice\"),\n",
    "    regexp_replace(\"class\", \"English\", \"Design\").alias(\"final_choice\")\n",
    ").show()"
   ]
  },
  {
   "cell_type": "markdown",
   "id": "ce81a150-2f11-4e1f-a4f2-81218dd3f01c",
   "metadata": {},
   "source": [
    "Replace all values in a column:"
   ]
  },
  {
   "cell_type": "code",
   "execution_count": 16,
   "id": "453e64e9-3ff6-4e52-9bca-63e249629914",
   "metadata": {},
   "outputs": [
    {
     "name": "stdout",
     "output_type": "stream",
     "text": [
      "+-------+------------+\n",
      "|   name|       class|\n",
      "+-------+------------+\n",
      "|Alisson|        Math|\n",
      "| Virgil|Data Science|\n",
      "|Ibrahim|     English|\n",
      "| Alexis|Data Science|\n",
      "+-------+------------+\n",
      "\n"
     ]
    }
   ],
   "source": [
    "df2.withColumn(\n",
    "    \"class\",\n",
    "    regexp_replace(\"class\", \"^Computer\", \"Data\")\n",
    ").show()"
   ]
  },
  {
   "cell_type": "markdown",
   "id": "3e77b770-ae06-4b4b-8730-643b777d484c",
   "metadata": {},
   "source": [
    "## Type-Casting"
   ]
  },
  {
   "cell_type": "code",
   "execution_count": 17,
   "id": "05dacfef-82b9-409d-95f8-de1df88883b5",
   "metadata": {},
   "outputs": [
    {
     "name": "stdout",
     "output_type": "stream",
     "text": [
      "root\n",
      " |-- name: string (nullable = true)\n",
      " |-- id: string (nullable = true)\n",
      "\n"
     ]
    }
   ],
   "source": [
    "df3 = spark.createDataFrame(\n",
    "    [\n",
    "        (\"Alisson\", \"1\"),\n",
    "        (\"Virgil\", \"4\"),\n",
    "        (\"Ibrahim\", \"5\"),\n",
    "        (\"Alexis\", \"10\")\n",
    "    ], schema=[\"name\", \"id\"]\n",
    ")\n",
    "df3.printSchema()"
   ]
  },
  {
   "cell_type": "code",
   "execution_count": 18,
   "id": "6dd77501-af11-4bcb-93c3-9e1f32dc158e",
   "metadata": {},
   "outputs": [
    {
     "name": "stdout",
     "output_type": "stream",
     "text": [
      "root\n",
      " |-- name: string (nullable = true)\n",
      " |-- int: integer (nullable = true)\n",
      "\n"
     ]
    }
   ],
   "source": [
    "df3.select(\"name\", df3[\"id\"].cast(\"int\").alias(\"int\")).printSchema()"
   ]
  },
  {
   "cell_type": "markdown",
   "id": "3c838794-6b1d-4aaa-b910-663cb310e391",
   "metadata": {},
   "source": [
    "## Complex Data Types & Related Functions"
   ]
  },
  {
   "cell_type": "markdown",
   "id": "7a4fc01b-a271-4ff6-8919-dc8219cd4ac8",
   "metadata": {},
   "source": [
    "Struct type, consisting of a list of `StructField`s, is the data type representing a `Row` in Spark:"
   ]
  },
  {
   "cell_type": "code",
   "execution_count": 19,
   "id": "be36397a-2e3a-4f02-98ca-54bd295b7f0b",
   "metadata": {},
   "outputs": [
    {
     "name": "stdout",
     "output_type": "stream",
     "text": [
      "+------------+-------------------------------------+---+\n",
      "|friend      |skills                               |id |\n",
      "+------------+-------------------------------------+---+\n",
      "|{Alex, 20}  |[[data, research], [Python, SQL]]    |1  |\n",
      "|{Eugene, 27}|[[business, research], [Excel, null]]|2  |\n",
      "+------------+-------------------------------------+---+\n",
      "\n",
      "root\n",
      " |-- friend: struct (nullable = true)\n",
      " |    |-- name: string (nullable = false)\n",
      " |    |-- age: integer (nullable = true)\n",
      " |-- skills: array (nullable = true)\n",
      " |    |-- element: array (containsNull = true)\n",
      " |    |    |-- element: string (containsNull = true)\n",
      " |-- id: integer (nullable = false)\n",
      "\n"
     ]
    }
   ],
   "source": [
    "schema = StructType([\n",
    "    StructField(\n",
    "        \"friend\",\n",
    "        StructType([\n",
    "            StructField(\"name\", StringType(), False),\n",
    "            StructField(\"age\", IntegerType())\n",
    "        ])\n",
    "    ),\n",
    "    StructField(\"skills\", ArrayType(ArrayType(StringType()))),\n",
    "    StructField(\"id\", IntegerType(), False)\n",
    "])\n",
    "data = [\n",
    "    ((\"Alex\", 20), [[\"data\", \"research\"], [\"Python\", \"SQL\"]], 1),\n",
    "    ((\"Eugene\", 27), [[\"business\", \"research\"], [\"Excel\", None]], 2)\n",
    "]\n",
    "df4 = spark.createDataFrame(data, schema)\n",
    "df4.show(truncate=False)\n",
    "df4.printSchema()"
   ]
  },
  {
   "cell_type": "markdown",
   "id": "cfb00cd7-51da-4b81-a245-0bf572c5316a",
   "metadata": {},
   "source": [
    "Create a struct column from existing columns:"
   ]
  },
  {
   "cell_type": "code",
   "execution_count": 20,
   "id": "85f90469-d5ed-47d1-9312-cc4ad56b2bdf",
   "metadata": {},
   "outputs": [
    {
     "name": "stdout",
     "output_type": "stream",
     "text": [
      "+-----------------+\n",
      "|           friend|\n",
      "+-----------------+\n",
      "|  {1, {Alex, 20}}|\n",
      "|{2, {Eugene, 27}}|\n",
      "+-----------------+\n",
      "\n"
     ]
    }
   ],
   "source": [
    "df5 = df4.select(struct(\"id\", \"friend\").alias(\"friend\"))\n",
    "df5.show()"
   ]
  },
  {
   "cell_type": "code",
   "execution_count": 21,
   "id": "bddcc996-7375-40eb-992f-2809adfdb01d",
   "metadata": {},
   "outputs": [
    {
     "name": "stdout",
     "output_type": "stream",
     "text": [
      "+------+\n",
      "|  name|\n",
      "+------+\n",
      "|  Alex|\n",
      "|Eugene|\n",
      "+------+\n",
      "\n"
     ]
    }
   ],
   "source": [
    "df5.select(\"friend.friend.name\").show()"
   ]
  },
  {
   "cell_type": "markdown",
   "id": "bbb9cb14-40ee-439c-ab92-93fc6eb44b04",
   "metadata": {},
   "source": [
    "Access values in an array using bracket notation:"
   ]
  },
  {
   "cell_type": "code",
   "execution_count": 22,
   "id": "a830318a-2bd5-4975-9d9b-49469d407e75",
   "metadata": {},
   "outputs": [
    {
     "name": "stdout",
     "output_type": "stream",
     "text": [
      "+--------+\n",
      "|   skill|\n",
      "+--------+\n",
      "|    data|\n",
      "|business|\n",
      "+--------+\n",
      "\n"
     ]
    }
   ],
   "source": [
    "df4.select(df4[\"skills\"][0][0].alias(\"skill\")).show()"
   ]
  },
  {
   "cell_type": "markdown",
   "id": "22755cd2-9b1b-4a49-a595-3151da6a5105",
   "metadata": {},
   "source": [
    "Flatten a nested array:"
   ]
  },
  {
   "cell_type": "code",
   "execution_count": 23,
   "id": "cef8d802-53cf-4bb4-a8db-9185cf38d5e5",
   "metadata": {},
   "outputs": [
    {
     "name": "stdout",
     "output_type": "stream",
     "text": [
      "+---------------------------------+\n",
      "|skills                           |\n",
      "+---------------------------------+\n",
      "|[data, research, Python, SQL]    |\n",
      "|[business, research, Excel, null]|\n",
      "+---------------------------------+\n",
      "\n"
     ]
    }
   ],
   "source": [
    "df4.select(\n",
    "    flatten(df4[\"skills\"]).alias(\"skills\")\n",
    ").show(truncate=False)"
   ]
  },
  {
   "cell_type": "markdown",
   "id": "f7fd8d7f-c023-4550-af82-e10eeeeb5ddf",
   "metadata": {},
   "source": [
    "Extract an array into rows:"
   ]
  },
  {
   "cell_type": "code",
   "execution_count": 24,
   "id": "d260cb32-4147-4471-9f07-66ad33cd7214",
   "metadata": {},
   "outputs": [
    {
     "name": "stdout",
     "output_type": "stream",
     "text": [
      "+------+--------------------+\n",
      "|  name|               skill|\n",
      "+------+--------------------+\n",
      "|  Alex|    [data, research]|\n",
      "|  Alex|       [Python, SQL]|\n",
      "|Eugene|[business, research]|\n",
      "|Eugene|       [Excel, null]|\n",
      "+------+--------------------+\n",
      "\n"
     ]
    }
   ],
   "source": [
    "df4.select(\n",
    "    \"friend.name\", explode(\"skills\").alias(\"skill\")\n",
    ").show()"
   ]
  },
  {
   "cell_type": "markdown",
   "id": "8d8984e4-ff53-47fc-9043-3acdab83af62",
   "metadata": {},
   "source": [
    "Another example of using `pyspark.sql.functions.explode()`, this time on a hash structure:"
   ]
  },
  {
   "cell_type": "code",
   "execution_count": 25,
   "id": "6ec1cf33-ac0f-47d6-a74d-ed6683da4b75",
   "metadata": {},
   "outputs": [
    {
     "name": "stdout",
     "output_type": "stream",
     "text": [
      "+----+--------------------+\n",
      "|name|               skill|\n",
      "+----+--------------------+\n",
      "|   1|      {Alex -> data}|\n",
      "|   2|{Eugene -> business}|\n",
      "+----+--------------------+\n",
      "\n",
      "root\n",
      " |-- name: long (nullable = true)\n",
      " |-- skill: map (nullable = true)\n",
      " |    |-- key: string\n",
      " |    |-- value: string (valueContainsNull = true)\n",
      "\n"
     ]
    }
   ],
   "source": [
    "df6 = spark.createDataFrame(\n",
    "    [(1, {\"Alex\": \"data\"}), (2, {\"Eugene\": \"business\"})],\n",
    "    schema=[\"name\", \"skill\"]\n",
    ")\n",
    "df6.show()\n",
    "df6.printSchema()"
   ]
  },
  {
   "cell_type": "code",
   "execution_count": 26,
   "id": "912e5b23-820c-4235-8713-233267f3ebc9",
   "metadata": {},
   "outputs": [
    {
     "name": "stdout",
     "output_type": "stream",
     "text": [
      "+----+------+--------+\n",
      "|name|   key|   value|\n",
      "+----+------+--------+\n",
      "|   1|  Alex|    data|\n",
      "|   2|Eugene|business|\n",
      "+----+------+--------+\n",
      "\n"
     ]
    }
   ],
   "source": [
    "df6.select(\"name\", explode(\"skill\")).show()"
   ]
  },
  {
   "cell_type": "markdown",
   "id": "72e91172-7e95-4236-8659-627259d79925",
   "metadata": {},
   "source": [
    "Create map-type and array-type columns from existing columns:"
   ]
  },
  {
   "cell_type": "code",
   "execution_count": 27,
   "id": "a8dcfcc0-4fc9-4170-8aa5-9b1baa1a0b68",
   "metadata": {},
   "outputs": [
    {
     "name": "stdout",
     "output_type": "stream",
     "text": [
      "+-------------+------------+\n",
      "|   friend_map|friend_array|\n",
      "+-------------+------------+\n",
      "|  {1 -> Alex}|  [Alex, 20]|\n",
      "|{2 -> Eugene}|[Eugene, 27]|\n",
      "+-------------+------------+\n",
      "\n",
      "root\n",
      " |-- friend_map: map (nullable = false)\n",
      " |    |-- key: integer\n",
      " |    |-- value: string (valueContainsNull = true)\n",
      " |-- friend_array: array (nullable = false)\n",
      " |    |-- element: string (containsNull = true)\n",
      "\n"
     ]
    }
   ],
   "source": [
    "df7 = df4.select(\n",
    "    create_map(\"id\", \"friend.name\").alias(\"friend_map\"),\n",
    "    array(\"friend.name\", \"friend.age\").alias(\"friend_array\")\n",
    ")\n",
    "df7.show()\n",
    "df7.printSchema()"
   ]
  },
  {
   "cell_type": "markdown",
   "id": "2e89806d-cec0-4ff9-8fc6-f39e988ffda3",
   "metadata": {},
   "source": [
    "# Practical Lab"
   ]
  },
  {
   "cell_type": "code",
   "execution_count": 28,
   "id": "f05614e8-e6b6-4428-962d-d8c070a03aa9",
   "metadata": {},
   "outputs": [
    {
     "name": "stdout",
     "output_type": "stream",
     "text": [
      "+--------+----+----------+--------+-----------+\n",
      "|sales_id|city|       dat|clerk_id|total_sales|\n",
      "+--------+----+----------+--------+-----------+\n",
      "|       1|  LA|2000-01-01|       5|       1400|\n",
      "|       2|  LA| 1998-2-01|       4|       1500|\n",
      "|       2|  LA| 1998-2-01|       4|       1500|\n",
      "|       3|  LA| 1997-4-01|       6|       1300|\n",
      "|       4|  LA| 2005-5-01|       2|       1100|\n",
      "|      NA|  LA| 2013-6-01|       1|       1200|\n",
      "+--------+----+----------+--------+-----------+\n",
      "\n"
     ]
    }
   ],
   "source": [
    "bronze_sales = spark.createDataFrame(\n",
    "    [\n",
    "        (\"1\", \"LA\", \"2000-01-01\", 5, 1400),\n",
    "        (\"2\", \"LA\", \"1998-2-01\", 4, 1500),\n",
    "        (\"2\", \"LA\", \"1998-2-01\", 4, 1500),\n",
    "        (\"3\", \"LA\", \"1997-4-01\", 6, 1300),\n",
    "        (\"4\", \"LA\", \"2005-5-01\", 2, 1100),\n",
    "        (\"NA\", \"LA\", \"2013-6-01\", 1, 1200)\n",
    "    ], schema=[\"sales_id\", \"city\", \"dat\", \"clerk_id\", \"total_sales\"]\n",
    ")\n",
    "bronze_sales.show()"
   ]
  },
  {
   "cell_type": "markdown",
   "id": "ef1f1a9b-c83e-4c22-83ff-a656d9914b4d",
   "metadata": {},
   "source": [
    "Fix column name:"
   ]
  },
  {
   "cell_type": "code",
   "execution_count": 29,
   "id": "3c6dda85-3aff-440a-b29a-a08b1663528a",
   "metadata": {},
   "outputs": [
    {
     "data": {
      "text/plain": [
       "['sales_id', 'city', 'date', 'clerk_id', 'total_sales']"
      ]
     },
     "execution_count": 29,
     "metadata": {},
     "output_type": "execute_result"
    }
   ],
   "source": [
    "bronze_sales = bronze_sales.withColumnRenamed(\"dat\", \"date\")\n",
    "bronze_sales.columns"
   ]
  },
  {
   "cell_type": "markdown",
   "id": "b2f427a4-9006-44c1-b2db-c92a61504bdf",
   "metadata": {},
   "source": [
    "Correctly identify nulls and drop them (note that the `sales_id` column has null values as `NA` strings):"
   ]
  },
  {
   "cell_type": "code",
   "execution_count": 30,
   "id": "2dc70970-14fe-40af-b6e4-7a82acce580b",
   "metadata": {},
   "outputs": [
    {
     "name": "stdout",
     "output_type": "stream",
     "text": [
      "+--------+----+----------+--------+-----------+\n",
      "|sales_id|city|      date|clerk_id|total_sales|\n",
      "+--------+----+----------+--------+-----------+\n",
      "|       1|  LA|2000-01-01|       5|       1400|\n",
      "|       2|  LA| 1998-2-01|       4|       1500|\n",
      "|       2|  LA| 1998-2-01|       4|       1500|\n",
      "|       3|  LA| 1997-4-01|       6|       1300|\n",
      "|       4|  LA| 2005-5-01|       2|       1100|\n",
      "+--------+----+----------+--------+-----------+\n",
      "\n"
     ]
    }
   ],
   "source": [
    "bronze_sales = (\n",
    "    bronze_sales.replace(\"NA\", None, \"sales_id\")\n",
    "        .filter(col(\"sales_id\").isNotNull())\n",
    ")\n",
    "bronze_sales.show()"
   ]
  },
  {
   "cell_type": "code",
   "execution_count": 31,
   "id": "de29efa7-cc4b-4037-962a-11a52fe1dbbd",
   "metadata": {},
   "outputs": [],
   "source": [
    "spark.stop()"
   ]
  }
 ],
 "metadata": {
  "kernelspec": {
   "display_name": "Python 3 (ipykernel)",
   "language": "python",
   "name": "python3"
  },
  "language_info": {
   "codemirror_mode": {
    "name": "ipython",
    "version": 3
   },
   "file_extension": ".py",
   "mimetype": "text/x-python",
   "name": "python",
   "nbconvert_exporter": "python",
   "pygments_lexer": "ipython3",
   "version": "3.11.7"
  }
 },
 "nbformat": 4,
 "nbformat_minor": 5
}
