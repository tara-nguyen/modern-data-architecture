{
 "cells": [
  {
   "cell_type": "code",
   "execution_count": 1,
   "id": "3d1071e3-285a-4610-852d-d8b84824ec5d",
   "metadata": {},
   "outputs": [],
   "source": [
    "from functools import partial\n",
    "\n",
    "from pyspark.sql import SparkSession\n",
    "from pyspark.sql.functions import (\n",
    "    col, when, regexp_replace, flatten, explode, struct,\n",
    "    create_map, array\n",
    ")\n",
    "from pyspark.sql.types import (\n",
    "    IntegerType, StringType, ArrayType, TimestampType,\n",
    "    StructType, StructField\n",
    ")"
   ]
  },
  {
   "cell_type": "code",
   "execution_count": 2,
   "id": "d7bce84c-d932-4331-9abf-d22f8e4d2cca",
   "metadata": {},
   "outputs": [
    {
     "name": "stderr",
     "output_type": "stream",
     "text": [
      "Setting default log level to \"WARN\".\n",
      "To adjust logging level use sc.setLogLevel(newLevel). For SparkR, use setLogLevel(newLevel).\n",
      "23/12/19 12:07:23 WARN NativeCodeLoader: Unable to load native-hadoop library for your platform... using builtin-java classes where applicable\n"
     ]
    }
   ],
   "source": [
    "spark = SparkSession.builder.appName(\"chap2\").getOrCreate()"
   ]
  },
  {
   "cell_type": "markdown",
   "id": "7028bbb5-910e-4aa2-b0d7-e70c898d6097",
   "metadata": {},
   "source": [
    "# Cleaning & Preparing Your Data"
   ]
  },
  {
   "cell_type": "code",
   "execution_count": 3,
   "id": "3b9e0859-c01f-4a80-a61e-9f99f0f2230e",
   "metadata": {},
   "outputs": [
    {
     "data": {
      "text/plain": [
       "DataFrame[name: string, position: string, id: bigint]"
      ]
     },
     "execution_count": 3,
     "metadata": {},
     "output_type": "execute_result"
    }
   ],
   "source": [
    "df1 = spark.createDataFrame(\n",
    "    [\n",
    "        (\"Alisson\", \"GK\", 1),\n",
    "        (\"Walter\", \"DM\", 3),\n",
    "        (\"Virgil\", \"DF\", 4),\n",
    "        (\"Ibrahim\", \"DF\", None),\n",
    "        (\"Endo\", None, 3),\n",
    "        (\"Alisson\", \"GK\", 1),\n",
    "        (\"Luis\", \"LW\", 0)\n",
    "    ], schema=[\"name\", \"position\", \"id\"]\n",
    ")\n",
    "df1"
   ]
  },
  {
   "cell_type": "code",
   "execution_count": 4,
   "id": "2f65e212-f2a6-4f2c-91d8-7d73c76fea3e",
   "metadata": {},
   "outputs": [
    {
     "name": "stderr",
     "output_type": "stream",
     "text": [
      "[Stage 0:>                                                          (0 + 1) / 1]\r"
     ]
    },
    {
     "name": "stdout",
     "output_type": "stream",
     "text": [
      "+-------+--------+----+\n",
      "|   name|position|  id|\n",
      "+-------+--------+----+\n",
      "|Alisson|      GK|   1|\n",
      "| Walter|      DM|   3|\n",
      "| Virgil|      DF|   4|\n",
      "|Ibrahim|      DF|null|\n",
      "|   Endo|    null|   3|\n",
      "|Alisson|      GK|   1|\n",
      "|   Luis|      LW|   0|\n",
      "+-------+--------+----+\n",
      "\n"
     ]
    },
    {
     "name": "stderr",
     "output_type": "stream",
     "text": [
      "                                                                                \r"
     ]
    }
   ],
   "source": [
    "df1.show()"
   ]
  },
  {
   "cell_type": "markdown",
   "id": "5ba4e17b-b766-43c2-a75c-b836721e1d2b",
   "metadata": {},
   "source": [
    "## Duplicate Values"
   ]
  },
  {
   "cell_type": "markdown",
   "id": "23aff528-9880-4806-b3c5-a2bbc4c8017d",
   "metadata": {},
   "source": [
    "Show only unique rows:"
   ]
  },
  {
   "cell_type": "code",
   "execution_count": 5,
   "id": "cd94cb09-6eae-4ef4-a858-8a7b1c97f341",
   "metadata": {},
   "outputs": [
    {
     "name": "stdout",
     "output_type": "stream",
     "text": [
      "+-------+--------+----+\n",
      "|   name|position|  id|\n",
      "+-------+--------+----+\n",
      "|Alisson|      GK|   1|\n",
      "| Walter|      DM|   3|\n",
      "| Virgil|      DF|   4|\n",
      "|Ibrahim|      DF|null|\n",
      "|   Endo|    null|   3|\n",
      "|   Luis|      LW|   0|\n",
      "+-------+--------+----+\n",
      "\n"
     ]
    }
   ],
   "source": [
    "df1.distinct().show()"
   ]
  },
  {
   "cell_type": "markdown",
   "id": "785ffcb7-67ce-448e-83c2-9e44ff4a58a1",
   "metadata": {},
   "source": [
    "Filter out duplicates based on entire rows (same as using `distinct()`):"
   ]
  },
  {
   "cell_type": "code",
   "execution_count": 6,
   "id": "88da6cec-8d8d-4fb8-a40c-3a9300cf47fc",
   "metadata": {},
   "outputs": [
    {
     "name": "stdout",
     "output_type": "stream",
     "text": [
      "+-------+--------+----+\n",
      "|   name|position|  id|\n",
      "+-------+--------+----+\n",
      "|Alisson|      GK|   1|\n",
      "| Walter|      DM|   3|\n",
      "| Virgil|      DF|   4|\n",
      "|Ibrahim|      DF|null|\n",
      "|   Endo|    null|   3|\n",
      "|   Luis|      LW|   0|\n",
      "+-------+--------+----+\n",
      "\n"
     ]
    }
   ],
   "source": [
    "df1.dropDuplicates().show()"
   ]
  },
  {
   "cell_type": "markdown",
   "id": "f093a990-ec33-42ae-97c4-6b520fee98fe",
   "metadata": {},
   "source": [
    "Filter out duplicates based on a subset of columns:"
   ]
  },
  {
   "cell_type": "code",
   "execution_count": 7,
   "id": "d4785543-85ff-4c58-ae90-25ded48d7039",
   "metadata": {},
   "outputs": [
    {
     "name": "stdout",
     "output_type": "stream",
     "text": [
      "+-------+--------+----+\n",
      "|   name|position|  id|\n",
      "+-------+--------+----+\n",
      "|Ibrahim|      DF|null|\n",
      "|   Luis|      LW|   0|\n",
      "|Alisson|      GK|   1|\n",
      "| Walter|      DM|   3|\n",
      "| Virgil|      DF|   4|\n",
      "+-------+--------+----+\n",
      "\n"
     ]
    }
   ],
   "source": [
    "df1.dropDuplicates([\"id\"]).show()"
   ]
  },
  {
   "cell_type": "markdown",
   "id": "3c89c67b-c84b-4b9e-8a62-0bd0c28a4071",
   "metadata": {},
   "source": [
    "## Working With Nulls"
   ]
  },
  {
   "cell_type": "markdown",
   "id": "128319fa-bb3a-417a-a9b6-c1a850cda81a",
   "metadata": {},
   "source": [
    "Filter rows based on the existence or absence of nulls in a specified column:"
   ]
  },
  {
   "cell_type": "code",
   "execution_count": 8,
   "id": "978dfa56-f2ac-47e0-9c68-dc70528c371f",
   "metadata": {},
   "outputs": [
    {
     "name": "stdout",
     "output_type": "stream",
     "text": [
      "+-------+--------+----+\n",
      "|   name|position|  id|\n",
      "+-------+--------+----+\n",
      "|Ibrahim|      DF|null|\n",
      "+-------+--------+----+\n",
      "\n"
     ]
    }
   ],
   "source": [
    "df1.filter(col(\"id\").isNull()).show()"
   ]
  },
  {
   "cell_type": "code",
   "execution_count": 9,
   "id": "ee8b7350-1b2d-4112-aaf4-d9f14810dd15",
   "metadata": {},
   "outputs": [
    {
     "name": "stdout",
     "output_type": "stream",
     "text": [
      "+-------+--------+---+\n",
      "|   name|position| id|\n",
      "+-------+--------+---+\n",
      "|Alisson|      GK|  1|\n",
      "| Walter|      DM|  3|\n",
      "| Virgil|      DF|  4|\n",
      "|Alisson|      GK|  1|\n",
      "|   Luis|      LW|  0|\n",
      "+-------+--------+---+\n",
      "\n"
     ]
    }
   ],
   "source": [
    "df1.filter(\n",
    "    col(\"id\").isNotNull() & col(\"position\").isNotNull()\n",
    ").show()"
   ]
  },
  {
   "cell_type": "markdown",
   "id": "6aa82107-60a2-4c3e-b94c-246672a69c21",
   "metadata": {},
   "source": [
    "Create a null label column:"
   ]
  },
  {
   "cell_type": "code",
   "execution_count": 10,
   "id": "e23e488e-2ab2-4153-9301-b4bd38fea3d6",
   "metadata": {},
   "outputs": [
    {
     "name": "stdout",
     "output_type": "stream",
     "text": [
      "+-------+--------+----+-----+\n",
      "|   name|position|  id|no_id|\n",
      "+-------+--------+----+-----+\n",
      "|Alisson|      GK|   1|false|\n",
      "| Walter|      DM|   3|false|\n",
      "| Virgil|      DF|   4|false|\n",
      "|Ibrahim|      DF|null| true|\n",
      "|   Endo|    null|   3|false|\n",
      "|Alisson|      GK|   1|false|\n",
      "|   Luis|      LW|   0|false|\n",
      "+-------+--------+----+-----+\n",
      "\n"
     ]
    }
   ],
   "source": [
    "df1.select(\"*\", col(\"id\").isNull().alias(\"no_id\")).show()"
   ]
  },
  {
   "cell_type": "markdown",
   "id": "589f0cde-a163-4709-b442-dd7f606d7568",
   "metadata": {},
   "source": [
    "Account for cases when nulls are set to alternative values:"
   ]
  },
  {
   "cell_type": "code",
   "execution_count": 11,
   "id": "d03f652a-03ad-43d9-a117-8ae2e63184c9",
   "metadata": {},
   "outputs": [
    {
     "name": "stdout",
     "output_type": "stream",
     "text": [
      "+-------+--------+----+\n",
      "|   name|position|  id|\n",
      "+-------+--------+----+\n",
      "|Alisson|      GK|   1|\n",
      "| Walter|      DM|   3|\n",
      "| Virgil|      DF|   4|\n",
      "|Ibrahim|      DF|null|\n",
      "|   Endo|    null|   3|\n",
      "|Alisson|      GK|   1|\n",
      "|   Luis|      LW|null|\n",
      "+-------+--------+----+\n",
      "\n"
     ]
    }
   ],
   "source": [
    "df1.withColumn(\n",
    "    \"id\",\n",
    "    when(col(\"id\") == 0, None).otherwise(col(\"id\"))\n",
    ").show()"
   ]
  },
  {
   "cell_type": "markdown",
   "id": "1e4c12db-9531-4c63-9d27-5efaa349cc05",
   "metadata": {},
   "source": [
    "## Using RegEx"
   ]
  },
  {
   "cell_type": "code",
   "execution_count": 12,
   "id": "ff417d09-7a73-4626-9cb2-912f2fa7cefa",
   "metadata": {},
   "outputs": [
    {
     "name": "stdout",
     "output_type": "stream",
     "text": [
      "+-------+----------------+\n",
      "|   name|           class|\n",
      "+-------+----------------+\n",
      "|Alisson|            Math|\n",
      "| Virgil|Computer Science|\n",
      "|Ibrahim|         English|\n",
      "| Alexis|Computer Science|\n",
      "+-------+----------------+\n",
      "\n"
     ]
    }
   ],
   "source": [
    "df2 = spark.createDataFrame(\n",
    "    [\n",
    "        (\"Alisson\", \"Math\"),\n",
    "        (\"Virgil\", \"Computer Science\"),\n",
    "        (\"Ibrahim\", \"English\"),\n",
    "        (\"Alexis\", \"Computer Science\")\n",
    "    ], schema=[\"name\", \"class\"]\n",
    ")\n",
    "df2.show()"
   ]
  },
  {
   "cell_type": "markdown",
   "id": "2e8384ac-14ea-490d-9c3f-acba60f9f7b4",
   "metadata": {},
   "source": [
    "Replace one value with an alternative:"
   ]
  },
  {
   "cell_type": "code",
   "execution_count": 13,
   "id": "12d77b53-3057-46d5-b3a9-1ebcea70255a",
   "metadata": {},
   "outputs": [
    {
     "name": "stdout",
     "output_type": "stream",
     "text": [
      "+----------------+----------------+\n",
      "|  initial_choice|    final_choice|\n",
      "+----------------+----------------+\n",
      "|            Math|            Math|\n",
      "|Computer Science|Computer Science|\n",
      "|         English|          Design|\n",
      "|Computer Science|Computer Science|\n",
      "+----------------+----------------+\n",
      "\n"
     ]
    }
   ],
   "source": [
    "df2.select(\n",
    "    col(\"class\").alias(\"initial_choice\"),\n",
    "    regexp_replace(\"class\", \"English\", \"Design\").alias(\"final_choice\")\n",
    ").show()"
   ]
  },
  {
   "cell_type": "markdown",
   "id": "ce81a150-2f11-4e1f-a4f2-81218dd3f01c",
   "metadata": {},
   "source": [
    "Replace all values in a column:"
   ]
  },
  {
   "cell_type": "code",
   "execution_count": 14,
   "id": "453e64e9-3ff6-4e52-9bca-63e249629914",
   "metadata": {},
   "outputs": [
    {
     "name": "stdout",
     "output_type": "stream",
     "text": [
      "+-------+------------+\n",
      "|   name|       class|\n",
      "+-------+------------+\n",
      "|Alisson|        Math|\n",
      "| Virgil|Data Science|\n",
      "|Ibrahim|     English|\n",
      "| Alexis|Data Science|\n",
      "+-------+------------+\n",
      "\n"
     ]
    }
   ],
   "source": [
    "df2.withColumn(\n",
    "    \"class\",\n",
    "    regexp_replace(\"class\", \"^Computer\", \"Data\")\n",
    ").show()"
   ]
  }
 ],
 "metadata": {
  "kernelspec": {
   "display_name": "Python 3 (ipykernel)",
   "language": "python",
   "name": "python3"
  },
  "language_info": {
   "codemirror_mode": {
    "name": "ipython",
    "version": 3
   },
   "file_extension": ".py",
   "mimetype": "text/x-python",
   "name": "python",
   "nbconvert_exporter": "python",
   "pygments_lexer": "ipython3",
   "version": "3.11.5"
  }
 },
 "nbformat": 4,
 "nbformat_minor": 5
}
