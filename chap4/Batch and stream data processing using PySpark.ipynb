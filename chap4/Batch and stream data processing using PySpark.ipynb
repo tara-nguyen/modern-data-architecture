{
 "cells": [
  {
   "cell_type": "code",
   "execution_count": 1,
   "id": "ea848f65-1df5-4ca5-a711-eaf6d0082cd6",
   "metadata": {},
   "outputs": [],
   "source": [
    "from faker import Faker\n",
    "from pyspark.sql import SparkSession"
   ]
  },
  {
   "cell_type": "code",
   "execution_count": 2,
   "id": "005adc5d-0687-4a8b-864d-f32b8be51c25",
   "metadata": {},
   "outputs": [
    {
     "name": "stderr",
     "output_type": "stream",
     "text": [
      "Setting default log level to \"WARN\".\n",
      "To adjust logging level use sc.setLogLevel(newLevel). For SparkR, use setLogLevel(newLevel).\n",
      "24/01/14 23:56:48 WARN NativeCodeLoader: Unable to load native-hadoop library for your platform... using builtin-java classes where applicable\n"
     ]
    }
   ],
   "source": [
    "spark = SparkSession.builder.appName(\"chap4\").getOrCreate()"
   ]
  },
  {
   "cell_type": "markdown",
   "id": "80af6f67-56e5-468e-a6c4-213a9ad51eb8",
   "metadata": {},
   "source": [
    "# Batch Processing"
   ]
  },
  {
   "cell_type": "markdown",
   "id": "eb5b86a4-41ed-42ca-b905-2468033dd143",
   "metadata": {},
   "source": [
    "Generate some fake data:"
   ]
  },
  {
   "cell_type": "code",
   "execution_count": 3,
   "id": "a55df1a5-f053-4160-b6e3-0e3e185057af",
   "metadata": {},
   "outputs": [],
   "source": [
    "fake = Faker()\n",
    "Faker.seed(0)"
   ]
  },
  {
   "cell_type": "code",
   "execution_count": 4,
   "id": "53c29ab8-3454-4145-a857-cb826c9fa87c",
   "metadata": {},
   "outputs": [],
   "source": [
    "def generate_data(nrow):\n",
    "    data = [\n",
    "        (fake.unique.name(), fake.state(),\n",
    "         fake.date_of_birth(minimum_age=18, maximum_age=65),\n",
    "         fake.job(), fake.random_number(3))\n",
    "        for i in range(int(nrow * 0.8))\n",
    "    ]\n",
    "    data.extend([\n",
    "        (fake.unique.name(), fake.state(),\n",
    "         fake.date_of_birth(minimum_age=66, maximum_age=100),\n",
    "         fake.job(), fake.random_number(3))\n",
    "        for i in range(nrow - len(data))\n",
    "    ])\n",
    "\n",
    "    return data"
   ]
  },
  {
   "cell_type": "code",
   "execution_count": 5,
   "id": "70e91258-5b49-4b27-9ada-1c79bf1b384c",
   "metadata": {},
   "outputs": [
    {
     "name": "stderr",
     "output_type": "stream",
     "text": [
      "[Stage 0:>                                                          (0 + 1) / 1]\r"
     ]
    },
    {
     "name": "stdout",
     "output_type": "stream",
     "text": [
      "+----------------+-------------+----------+--------------------+-----+\n",
      "|            name|        state| birthdate|          occupation|score|\n",
      "+----------------+-------------+----------+--------------------+-----+\n",
      "|    Norma Fisher|     Kentucky|1992-10-29|Radiographer, dia...|  414|\n",
      "| Sandra Faulkner|    Minnesota|1997-09-26|Engineering geolo...|  516|\n",
      "|   Charles Davis|     Kentucky|1994-04-11|        Town planner|  923|\n",
      "|     Brett Jones|         Utah|1980-07-04|Public house manager|  573|\n",
      "|    Jeffrey Carr|      Indiana|1995-08-21|Publishing rights...|  453|\n",
      "| Debbie Trujillo|     Oklahoma|1958-12-29|Chief Financial O...|  736|\n",
      "| Michelle Glover| South Dakota|1958-02-11|  Veterinary surgeon|  505|\n",
      "|   Felicia Cross|     Virginia|1962-04-28|Engineer, aeronau...|  939|\n",
      "|   Cynthia Ponce|         Ohio|1988-07-09| Chemist, analytical|   82|\n",
      "|Sheri Bolton DDS|     Maryland|1995-07-20|Horticulturist, a...|  723|\n",
      "|    Gary Nielsen|      Indiana|1999-01-31|Sports developmen...|  601|\n",
      "|   Brandon Yates|Massachusetts|1997-03-17|Financial controller|  297|\n",
      "| Roberto Johnson|        Texas|1975-09-25|     Publishing copy|   70|\n",
      "|  Peter Mcdowell|      Arizona|1963-07-01|Sound technician,...|  699|\n",
      "|    Michael Hill|       Kansas|1972-09-05|  Theme park manager|  845|\n",
      "|    Lauren Hayes|        Texas|2001-09-02| Marketing executive|   84|\n",
      "|  Brian Matthews|     Michigan|1970-12-28|   Financial manager|   16|\n",
      "| Autumn Robinson|       Hawaii|1980-08-31|Physiological sci...|  835|\n",
      "|   Richard Wyatt|         Iowa|1961-02-11|Teacher, secondar...|  649|\n",
      "| Kimberly Becker|       Alaska|1966-07-04|     Energy engineer|  620|\n",
      "+----------------+-------------+----------+--------------------+-----+\n",
      "only showing top 20 rows\n",
      "\n"
     ]
    },
    {
     "name": "stderr",
     "output_type": "stream",
     "text": [
      "                                                                                \r"
     ]
    }
   ],
   "source": [
    "df1 = spark.createDataFrame(\n",
    "    generate_data(1000),\n",
    "    [\"name\", \"state\", \"birthdate\", \"occupation\", \"score\"]\n",
    ")\n",
    "df1.show()"
   ]
  }
 ],
 "metadata": {
  "kernelspec": {
   "display_name": "Python 3 (ipykernel)",
   "language": "python",
   "name": "python3"
  },
  "language_info": {
   "codemirror_mode": {
    "name": "ipython",
    "version": 3
   },
   "file_extension": ".py",
   "mimetype": "text/x-python",
   "name": "python",
   "nbconvert_exporter": "python",
   "pygments_lexer": "ipython3",
   "version": "3.11.7"
  }
 },
 "nbformat": 4,
 "nbformat_minor": 5
}
